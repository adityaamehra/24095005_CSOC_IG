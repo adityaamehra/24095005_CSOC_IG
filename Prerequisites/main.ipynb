{
 "cells": [
  {
   "cell_type": "markdown",
   "id": "e0c0377c",
   "metadata": {},
   "source": [
    "Part 1 ,of the assignment :-"
   ]
  },
  {
   "cell_type": "code",
   "execution_count": 26,
   "id": "7c8d4b7c",
   "metadata": {},
   "outputs": [],
   "source": [
    "import os\n",
    "import csv\n",
    "import time\n",
    "import matplotlib.pyplot as plt\n",
    "from sklearn.metrics import mean_absolute_error,mean_squared_error,r2_score"
   ]
  },
  {
   "cell_type": "markdown",
   "id": "d1facb65",
   "metadata": {},
   "source": [
    "Reading the csv file and making the data as the correct data type :-"
   ]
  },
  {
   "cell_type": "code",
   "execution_count": 27,
   "id": "27dc2dde",
   "metadata": {},
   "outputs": [
    {
     "name": "stdout",
     "output_type": "stream",
     "text": [
      "          longitude      latitude  housing_median_age   total_rooms  \\\n",
      "count  20433.000000  20433.000000        20433.000000  20433.000000   \n",
      "mean    -119.570689     35.633221           28.633094   2636.504233   \n",
      "std        2.003578      2.136348           12.591805   2185.269567   \n",
      "min     -124.350000     32.540000            1.000000      2.000000   \n",
      "25%     -121.800000     33.930000           18.000000   1450.000000   \n",
      "50%     -118.490000     34.260000           29.000000   2127.000000   \n",
      "75%     -118.010000     37.720000           37.000000   3143.000000   \n",
      "max     -114.310000     41.950000           52.000000  39320.000000   \n",
      "\n",
      "       total_bedrooms    population    households  median_income  \\\n",
      "count    20433.000000  20433.000000  20433.000000   20433.000000   \n",
      "mean       537.870553   1424.946949    499.433465       3.871162   \n",
      "std        421.385070   1133.208490    382.299226       1.899291   \n",
      "min          1.000000      3.000000      1.000000       0.499900   \n",
      "25%        296.000000    787.000000    280.000000       2.563700   \n",
      "50%        435.000000   1166.000000    409.000000       3.536500   \n",
      "75%        647.000000   1722.000000    604.000000       4.744000   \n",
      "max       6445.000000  35682.000000   6082.000000      15.000100   \n",
      "\n",
      "       median_house_value  \n",
      "count        20433.000000  \n",
      "mean        206864.413155  \n",
      "std         115435.667099  \n",
      "min          14999.000000  \n",
      "25%         119500.000000  \n",
      "50%         179700.000000  \n",
      "75%         264700.000000  \n",
      "max         500001.000000  \n"
     ]
    }
   ],
   "source": [
    "import pandas as pd\n",
    "\n",
    "data1=pd.read_csv('housing.csv')\n",
    "data1=data1.dropna()\n",
    "print(data1.describe())\n",
    "d1=data1.to_numpy()"
   ]
  },
  {
   "cell_type": "code",
   "execution_count": 28,
   "id": "1d6b8dc2",
   "metadata": {},
   "outputs": [],
   "source": [
    "for i in range(len(d1)):\n",
    "    d1[i][0]=d1[i][0]/-119.570689\n",
    "    d1[i][1]=d1[i][1]/35.633221 \n",
    "    d1[i][2]=d1[i][2]/28.633094\n",
    "    d1[i][3]=d1[i][3]/2636.504233\n",
    "    d1[i][4]=d1[i][4]/537.870553 \n",
    "    d1[i][5]=d1[i][5]/1424.946949\n",
    "    d1[i][6]=d1[i][6]/499.433465 \n",
    "    d1[i][7]=d1[i][7]/3.871162\n",
    "    d1[i][8]=d1[i][8]/206864.413155\n",
    "    if d1[i][9]=='INLAND':\n",
    "        d1[i][9]=0\n",
    "    elif d1[i][9]=='NEAR BAY':\n",
    "        d1[i][9]=1\n",
    "    elif d1[i][9]=='NEAR OCEAN':\n",
    "        d1[i][9]=2\n",
    "    elif d1[i][9]=='ISLAND':\n",
    "        d1[i][9]=3\n",
    "    else:\n",
    "        d1[i][9]=4"
   ]
  },
  {
   "cell_type": "code",
   "execution_count": 29,
   "id": "77d317c5",
   "metadata": {},
   "outputs": [
    {
     "name": "stdout",
     "output_type": "stream",
     "text": [
      "20433\n",
      "20433\n",
      "[0.0, 0.0, 0.0, 0.0, 0.0, 0.0, 0.0, 0.0, 0.0, 0.0]\n",
      "[1, 1.0222404924002737, 1.0630529302978253, 1.43190952399346, 0.33377530329191774, 0.2398346577638356, 0.22597332499008005, 0.252285857536599, 2.1505687439585324, 1]\n",
      "2.1879065282285866\n"
     ]
    }
   ],
   "source": [
    "# In this ,the rows[0] is the y and the rest of the rows are the x\n",
    "x1=[]\n",
    "y1=[]\n",
    "for i in range(len(d1)):\n",
    "    x1.append([1,d1[i][0],d1[i][1],d1[i][2],d1[i][3],d1[i][4],d1[i][5],d1[i][6],d1[i][7],d1[i][9]])\n",
    "    y1.append(d1[i][8])\n",
    "print(len(x1))\n",
    "print(len(y1))\n",
    "theta1=[0.0]*len(x1[0])\n",
    "print(theta1)\n",
    "print(x1[0])\n",
    "print(y1[0])"
   ]
  },
  {
   "cell_type": "code",
   "execution_count": 30,
   "id": "8434d256",
   "metadata": {},
   "outputs": [],
   "source": [
    "def cost1(theta,x,y):\n",
    "    m=len(x)\n",
    "    tc=0\n",
    "    for i in range(m):\n",
    "        sum=0\n",
    "        for j in range(len(x[0])):\n",
    "            sum+=theta[j]*x[i][j]\n",
    "        sum-=y[i]\n",
    "        sum=sum**2\n",
    "        tc+=sum\n",
    "    return tc/(2*m)"
   ]
  },
  {
   "cell_type": "code",
   "execution_count": 31,
   "id": "7cefec2f",
   "metadata": {},
   "outputs": [],
   "source": [
    "def mgd1(x,y,theta,alpha,n=10000):\n",
    "    start_time=time.time()\n",
    "    theta=theta.copy()\n",
    "    m=len(x)\n",
    "    J_his=[]\n",
    "    for _ in range(n):\n",
    "        grads=[0.0]*len(theta)\n",
    "        for j in range(m):\n",
    "            y_hat=sum(theta[k]*x[j][k] for k in range(len(theta)))\n",
    "            err=y_hat-y[j]\n",
    "            for k in range(len(theta)):\n",
    "                grads[k]+=err*x[j][k]\n",
    "        for k in range(len(theta)):\n",
    "            theta[k]-=alpha*grads[k]/m\n",
    "        J_his.append(cost1(theta,x,y))\n",
    "    dur=time.time()-start_time\n",
    "    return theta,J_his,dur"
   ]
  },
  {
   "cell_type": "code",
   "execution_count": 32,
   "id": "1daa5203",
   "metadata": {},
   "outputs": [
    {
     "name": "stdout",
     "output_type": "stream",
     "text": [
      "[0.015213594007137106, 0.024531444369283506, 0.0197497478604908, 0.14377674859135187, 0.09558321141450399, 0.05533471033529676, -0.1959991883482938, 0.06747673876505397, 0.6164069334151637, 0.07735404755701827]\n",
      "26.835362195968628\n",
      "[1.0222404924002737 1.0630529302978253 1.43190952399346\n",
      " 0.33377530329191774 0.2398346577638356 0.22597332499008005\n",
      " 0.252285857536599 2.1505687439585324 2.1879065282285866 1]\n"
     ]
    }
   ],
   "source": [
    "# Ensure theta has the correct length\n",
    "theta1,J_his1,dur=mgd1(x1,y1,theta1,0.01,1000)\n",
    "print(theta1)\n",
    "print(dur)\n",
    "print(d1[0])"
   ]
  },
  {
   "cell_type": "code",
   "execution_count": 33,
   "id": "bc61a8c7",
   "metadata": {},
   "outputs": [
    {
     "name": "stdout",
     "output_type": "stream",
     "text": [
      "[1.0222404924002737 1.0630529302978253 1.43190952399346\n",
      " 0.33377530329191774 0.2398346577638356 0.22597332499008005\n",
      " 0.252285857536599 2.1505687439585324 2.1879065282285866 1]\n"
     ]
    }
   ],
   "source": [
    "print(d1[0])"
   ]
  },
  {
   "cell_type": "markdown",
   "id": "f44cc77e",
   "metadata": {},
   "source": [
    "Graph for $J_{\\text{his}}$ Vs Iterations"
   ]
  },
  {
   "cell_type": "code",
   "execution_count": 34,
   "id": "d5aa0d1a",
   "metadata": {},
   "outputs": [
    {
     "data": {
      "image/png": "[encoded data removed]",
      "text/plain": [
       "<Figure size 640x480 with 1 Axes>"
      ]
     },
     "metadata": {},
     "output_type": "display_data"
    }
   ],
   "source": [
    "plt.plot(J_his1)\n",
    "plt.xlabel('Iterations')\n",
    "plt.ylabel('Cost')\n",
    "plt.title('Cost Function over Iterations for Manual GD')\n",
    "plt.show()"
   ]
  },
  {
   "cell_type": "markdown",
   "id": "1185b95d",
   "metadata": {},
   "source": [
    "Part 2 ,of the assignment :-"
   ]
  },
  {
   "cell_type": "code",
   "execution_count": 35,
   "id": "48bb62cc",
   "metadata": {},
   "outputs": [],
   "source": [
    "import numpy as np\n",
    "import pandas as pd"
   ]
  },
  {
   "cell_type": "markdown",
   "id": "ec9f04d9",
   "metadata": {},
   "source": [
    "The below code will only be run once"
   ]
  },
  {
   "cell_type": "code",
   "execution_count": 36,
   "id": "b84dcc78",
   "metadata": {},
   "outputs": [
    {
     "name": "stdout",
     "output_type": "stream",
     "text": [
      "[1.0222404924002737 1.0630529302978253 1.43190952399346\n",
      " 0.33377530329191774 0.2398346577638356 0.22597332499008005\n",
      " 0.252285857536599 2.1505687439585324 1]\n",
      "2.1879065282285866\n"
     ]
    }
   ],
   "source": [
    "x2=np.delete(d1,8,axis=1)\n",
    "y2=d1[:,8]\n",
    "print(x2[0])\n",
    "print(y2[0])"
   ]
  },
  {
   "cell_type": "code",
   "execution_count": 37,
   "id": "7470e2e1",
   "metadata": {},
   "outputs": [],
   "source": [
    "# This code will be run only once\n",
    "x2=np.concatenate([np.ones((len(x2),1)),x2],axis=1)"
   ]
  },
  {
   "cell_type": "code",
   "execution_count": 38,
   "id": "41f239c1",
   "metadata": {},
   "outputs": [
    {
     "name": "stdout",
     "output_type": "stream",
     "text": [
      "[1.0 1.0222404924002737 1.0630529302978253 1.43190952399346\n",
      " 0.33377530329191774 0.2398346577638356 0.22597332499008005\n",
      " 0.252285857536599 2.1505687439585324 1]\n",
      "(10,)\n",
      "[0. 0. 0. 0. 0. 0. 0. 0. 0. 0.]\n",
      "(20433, 10)\n"
     ]
    }
   ],
   "source": [
    "print(x2[0])\n",
    "theta2=np.zeros(len(x2[0]),dtype=float)\n",
    "theta2=theta2.reshape(-1)\n",
    "print(theta2.shape)\n",
    "print(theta2)\n",
    "print(x2.shape)"
   ]
  },
  {
   "cell_type": "code",
   "execution_count": 39,
   "id": "f054ae58",
   "metadata": {},
   "outputs": [],
   "source": [
    "def cost2(theta,x,y):\n",
    "    y_hat=np.dot(x,theta.T)\n",
    "    err=y_hat-y\n",
    "    serr=err**2\n",
    "    return np.sum(serr)/(2*len(x))"
   ]
  },
  {
   "cell_type": "code",
   "execution_count": 40,
   "id": "a761bc52",
   "metadata": {},
   "outputs": [],
   "source": [
    "def mgd2(x,y,theta,alpha,n=10000):\n",
    "    stt=time.time()\n",
    "    theta=theta.copy()\n",
    "    m=len(x)\n",
    "    J_his=[]\n",
    "    for _ in range(n):\n",
    "        y_hat=(np.dot(x,theta.T)).T\n",
    "        err=y_hat-y\n",
    "        grads=np.dot(err,x)/m\n",
    "        theta=theta-alpha*grads\n",
    "        J_his.append(cost2(theta,x,y))\n",
    "    dur=time.time()-stt\n",
    "    return theta,J_his,dur"
   ]
  },
  {
   "cell_type": "code",
   "execution_count": 41,
   "id": "4c4bf3cc",
   "metadata": {},
   "outputs": [
    {
     "name": "stdout",
     "output_type": "stream",
     "text": [
      "8.835925102233887\n",
      "[0.015213594007137107 0.024531444369283527 0.019749747860490722\n",
      " 0.14377674859135184 0.09558321141450396 0.05533471033529674\n",
      " -0.19599918834829375 0.06747673876505397 0.6164069334151638\n",
      " 0.07735404755701826]\n"
     ]
    },
    {
     "data": {
      "image/png": "[encoded data removed]",
      "text/plain": [
       "<Figure size 640x480 with 1 Axes>"
      ]
     },
     "metadata": {},
     "output_type": "display_data"
    }
   ],
   "source": [
    "theta2,J_his2,dur2=mgd2(x2,y2,theta2,0.01,1000)\n",
    "print(dur2)\n",
    "print(theta2)\n",
    "plt.plot(J_his2)\n",
    "plt.xlabel('Iterations')\n",
    "plt.ylabel('Cost')\n",
    "plt.title('Cost Function over Iterations for Vectorized GD')\n",
    "plt.show()"
   ]
  },
  {
   "cell_type": "markdown",
   "id": "d8319b52",
   "metadata": {},
   "source": [
    "Part 3 of the assignment :-"
   ]
  },
  {
   "cell_type": "code",
   "execution_count": 42,
   "id": "449967c6",
   "metadata": {},
   "outputs": [],
   "source": [
    "from sklearn.model_selection import train_test_split\n",
    "from sklearn.linear_model import LinearRegression"
   ]
  },
  {
   "cell_type": "code",
   "execution_count": 43,
   "id": "6617698e",
   "metadata": {},
   "outputs": [
    {
     "name": "stdout",
     "output_type": "stream",
     "text": [
      "[1, 1.0222404924002737, 1.0630529302978253, 1.43190952399346, 0.33377530329191774, 0.2398346577638356, 0.22597332499008005, 0.252285857536599, 2.1505687439585324, 1]\n",
      "[1.0 1.0222404924002737 1.0630529302978253 1.43190952399346\n",
      " 0.33377530329191774 0.2398346577638356 0.22597332499008005\n",
      " 0.252285857536599 2.1505687439585324 1]\n"
     ]
    }
   ],
   "source": [
    "print(x1[0])\n",
    "print(x2[0])"
   ]
  },
  {
   "cell_type": "code",
   "execution_count": 44,
   "id": "23fd245c",
   "metadata": {},
   "outputs": [
    {
     "name": "stdout",
     "output_type": "stream",
     "text": [
      "[21.17350303 -5.97794905  0.15985562 -0.08446011  0.28851724 -0.2605434\n",
      "  0.09733761  0.73795336  0.03091877]\n",
      "[0.015213594007137107 0.024531444369283527 0.019749747860490722\n",
      " 0.14377674859135184 0.09558321141450396 0.05533471033529674\n",
      " -0.19599918834829375 0.06747673876505397 0.6164069334151638\n",
      " 0.07735404755701826]\n",
      "[0.015213594007137106, 0.024531444369283506, 0.0197497478604908, 0.14377674859135187, 0.09558321141450399, 0.05533471033529676, -0.1959991883482938, 0.06747673876505397, 0.6164069334151637, 0.07735404755701827]\n",
      "0.643511270554038\n",
      "0.6412524458438154\n",
      "0.008185148239135742\n",
      "8.835925102233887\n",
      "26.835362195968628\n"
     ]
    }
   ],
   "source": [
    "stt3=time.time()\n",
    "x3=np.delete(x2,0,axis=1)\n",
    "x_train,x_test,y_train,y_test=train_test_split(x3,y2,test_size=0.2,random_state=42)\n",
    "reg=LinearRegression().fit(x_train,y_train)\n",
    "dur3=time.time()-stt3\n",
    "print(reg.coef_)\n",
    "print(theta2)\n",
    "print(theta1)\n",
    "print(reg.score(x_test,y_test))\n",
    "print(reg.score(x_train,y_train))\n",
    "print(dur3)\n",
    "print(dur2)\n",
    "print(dur)"
   ]
  },
  {
   "cell_type": "code",
   "execution_count": 45,
   "id": "2b7c16a2",
   "metadata": {},
   "outputs": [],
   "source": [
    "x_test_2=np.concatenate([np.ones((len(x_test),1)),x_test],axis=1)\n",
    "x_train_2=np.concatenate([np.ones((len(x_train),1)),x_train],axis=1)\n",
    "y_train_pred1=np.dot(x_train_2,theta1)\n",
    "y_train_pred2=np.dot(x_train_2,theta2)\n",
    "y_test_pred1=np.dot(x_test_2,theta1)\n",
    "y_test_pred2=np.dot(x_test_2,theta2)"
   ]
  },
  {
   "cell_type": "code",
   "execution_count": 46,
   "id": "433b4b43",
   "metadata": {},
   "outputs": [
    {
     "name": "stdout",
     "output_type": "stream",
     "text": [
      "R² score for regression model on test set for theta1: 0.5700636171849596\n",
      "R² score for regression model on test set for theta2: 0.5700636171849596\n",
      "R² score for regression model on test set: 0.643511270554038\n",
      "R² score for regression model on training set for theta1: 0.5746799142012735\n",
      "R² score for regression model on training set for theta2: 0.5746799142012735\n",
      "R² score for regression model on training set: 0.6412524458438154\n"
     ]
    }
   ],
   "source": [
    "r_test2_1=r2_score(y_test,y_test_pred1)\n",
    "r_test2_2=r2_score(y_test,y_test_pred2)\n",
    "\n",
    "# Print scores\n",
    "print(\"R² score for regression model on test set for theta1:\",r_test2_1)\n",
    "print(\"R² score for regression model on test set for theta2:\",r_test2_2)\n",
    "print(\"R² score for regression model on test set:\",reg.score(x_test,y_test))\n",
    "print(\"R² score for regression model on training set for theta1:\",r2_score(y_train,y_train_pred1))\n",
    "print(\"R² score for regression model on training set for theta2:\",r2_score(y_train,y_train_pred2))\n",
    "print(\"R² score for regression model on training set:\",reg.score(x_train,y_train))"
   ]
  },
  {
   "cell_type": "code",
   "execution_count": 47,
   "id": "d1446875",
   "metadata": {},
   "outputs": [
    {
     "name": "stdout",
     "output_type": "stream",
     "text": [
      "Mean Absolute Error for on test set for theta1: 0.2782679054153057\n",
      "Mean Absolute Error for on test set for theta2: 0.2782679054153057\n",
      "Mean Absolute Error for on test set for regression model: 0.24658959200380837\n",
      "Mean Absolute Error for on training set for theta1: 0.2715105236993384\n",
      "Mean Absolute Error for on training set for theta2: 0.2715105236993384\n",
      "Mean Absolute Error for on training set for regression model: 0.24204636460409035\n"
     ]
    }
   ],
   "source": [
    "print(\"Mean Absolute Error for on test set for theta1:\",mean_absolute_error(y_test,y_test_pred1))\n",
    "print(\"Mean Absolute Error for on test set for theta2:\",mean_absolute_error(y_test,y_test_pred2))\n",
    "print(\"Mean Absolute Error for on test set for regression model:\",mean_absolute_error(y_test,reg.predict(x_test)))\n",
    "print(\"Mean Absolute Error for on training set for theta1:\",mean_absolute_error(y_train,y_train_pred1))\n",
    "print(\"Mean Absolute Error for on training set for theta2:\",mean_absolute_error(y_train,y_train_pred2))\n",
    "print(\"Mean Absolute Error for on training set for regression model:\",mean_absolute_error(y_train,reg.predict(x_train)))"
   ]
  },
  {
   "cell_type": "code",
   "execution_count": 52,
   "id": "a4f2a42f",
   "metadata": {},
   "outputs": [
    {
     "name": "stdout",
     "output_type": "stream",
     "text": [
      "Root Mean Squared Error for on test set for theta1: 0.3706660857224697\n",
      "Root Mean Squared Error for on test set for theta2: 0.3706660857224696\n",
      "Root Mean Squared Error for on test set for regression model: 0.33752321930741963\n",
      "Root Mean Squared Error for on training set for theta1: 0.3627145281799263\n",
      "Root Mean Squared Error for on training set for theta2: 0.3627145281799263\n",
      "Root Mean Squared Error for on training set for regression model: 0.3331205916638473\n"
     ]
    }
   ],
   "source": [
    "print(\"Root Mean Squared Error for on test set for theta1:\",np.sqrt(mean_squared_error(y_test,y_test_pred1)))\n",
    "print(\"Root Mean Squared Error for on test set for theta2:\",np.sqrt(mean_squared_error(y_test,y_test_pred2)))\n",
    "print(\"Root Mean Squared Error for on test set for regression model:\",np.sqrt(mean_squared_error(y_test,reg.predict(x_test))))\n",
    "print(\"Root Mean Squared Error for on training set for theta1:\",np.sqrt(mean_squared_error(y_train,y_train_pred1)))\n",
    "print(\"Root Mean Squared Error for on training set for theta2:\",np.sqrt(mean_squared_error(y_train,y_train_pred2)))\n",
    "print(\"Root Mean Squared Error for on training set for regression model:\",np.sqrt(mean_squared_error(y_train,reg.predict(x_train))))"
   ]
  },
  {
   "cell_type": "code",
   "execution_count": null,
   "id": "61b40100",
   "metadata": {},
   "outputs": [
    {
     "data": {
      "image/png": "[encoded data removed]",
      "text/plain": [
       "<Figure size 640x480 with 1 Axes>"
      ]
     },
     "metadata": {},
     "output_type": "display_data"
    }
   ],
   "source": [
    "iterations = list(range(1, len(J_his1) + 1))\n",
    "plt.plot(iterations, J_his1, label='Manual GD')\n",
    "plt.plot(iterations, J_his2, label='Vectorized GD')\n",
    "plt.xlabel('Iterations')\n",
    "plt.ylabel('Cost')\n",
    "plt.title('Cost Function Convergence')\n",
    "plt.legend()\n",
    "plt.grid(True)\n",
    "plt.show()"
   ]
  },
  {
   "cell_type": "code",
   "execution_count": null,
   "id": "b8535c2b",
   "metadata": {},
   "outputs": [
    {
     "data": {
      "image/png": "[encoded data removed]",
      "text/plain": [
       "<Figure size 640x480 with 1 Axes>"
      ]
     },
     "metadata": {},
     "output_type": "display_data"
    }
   ],
   "source": [
    "models = ['Manual GD', 'Vectorized GD', 'Scikit-learn']\n",
    "mae = [mean_absolute_error(y_train,y_train_pred1), mean_absolute_error(y_train,y_train_pred2), mean_absolute_error(y_train,reg.predict(x_train))]\n",
    "rmse = [np.sqrt(mean_squared_error(y_train,y_train_pred1)), np.sqrt(mean_squared_error(y_train,y_train_pred2)), np.sqrt(mean_squared_error(y_train,reg.predict(x_train)))]\n",
    "r2 = [r2_score(y_train,y_train_pred1), r2_score(y_train,y_train_pred2), r2_score(y_train,reg.predict(x_train))]\n",
    "\n",
    "x = np.arange(len(models))\n",
    "width = 0.25\n",
    "\n",
    "fig, ax = plt.subplots()\n",
    "ax.bar(x - width, mae, width, label='MAE')\n",
    "ax.bar(x, rmse, width, label='RMSE')\n",
    "ax.bar(x + width, r2, width, label='R²')\n",
    "\n",
    "ax.set_xlabel('Models')\n",
    "ax.set_ylabel('Metric Values')\n",
    "ax.set_title('Regression Metric Comparison')\n",
    "ax.set_xticks(x)\n",
    "ax.set_xticklabels(models)\n",
    "ax.legend()\n",
    "plt.grid(True)\n",
    "plt.tight_layout()\n",
    "plt.show()\n"
   ]
  },
  {
   "cell_type": "code",
   "execution_count": null,
   "id": "5c8d0067",
   "metadata": {},
   "outputs": [],
   "source": []
  }
 ],
 "metadata": {
  "kernelspec": {
   "display_name": "week1_ig",
   "language": "python",
   "name": "python3"
  },
  "language_info": {
   "codemirror_mode": {
    "name": "ipython",
    "version": 3
   },
   "file_extension": ".py",
   "mimetype": "text/x-python",
   "name": "python",
   "nbconvert_exporter": "python",
   "pygments_lexer": "ipython3",
   "version": "3.12.9"
  }
 },
 "nbformat": 4,
 "nbformat_minor": 5
}
