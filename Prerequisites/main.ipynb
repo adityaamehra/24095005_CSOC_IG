{
 "cells": [
  {
   "cell_type": "markdown",
   "id": "e0c0377c",
   "metadata": {},
   "source": [
    "Part 1 ,of the assignment :-"
   ]
  },
  {
   "cell_type": "code",
   "execution_count": null,
   "id": "7c8d4b7c",
   "metadata": {},
   "outputs": [],
   "source": [
    "import os\n",
    "import csv\n",
    "import time\n",
    "import matplotlib.pyplot as plt\n",
    "from sklearn.metrics import mean_absolute_error,mean_squared_error,r2_score"
   ]
  },
  {
   "cell_type": "markdown",
   "id": "d1facb65",
   "metadata": {},
   "source": [
    "Reading the csv file and making the data as the correct data type :-"
   ]
  },
  {
   "cell_type": "code",
   "execution_count": null,
   "id": "27dc2dde",
   "metadata": {},
   "outputs": [],
   "source": [
    "import pandas as pd\n",
    "\n",
    "data1=pd.read_csv('housing.csv')\n",
    "data1=data1.dropna()\n",
    "print(data1.describe())\n",
    "d1=data1.to_numpy()"
   ]
  },
  {
   "cell_type": "code",
   "execution_count": null,
   "id": "1d6b8dc2",
   "metadata": {},
   "outputs": [],
   "source": [
    "for i in range(len(d1)):\n",
    "    d1[i][0]=d1[i][0]/-119.570689\n",
    "    d1[i][1]=d1[i][1]/35.633221 \n",
    "    d1[i][2]=d1[i][2]/28.633094\n",
    "    d1[i][3]=d1[i][3]/2636.504233\n",
    "    d1[i][4]=d1[i][4]/537.870553 \n",
    "    d1[i][5]=d1[i][5]/1424.946949\n",
    "    d1[i][6]=d1[i][6]/499.433465 \n",
    "    d1[i][7]=d1[i][7]/3.871162\n",
    "    d1[i][8]=d1[i][8]/206864.413155\n",
    "    if d1[i][9]=='INLAND':\n",
    "        d1[i][9]=0\n",
    "    elif d1[i][9]=='NEAR BAY':\n",
    "        d1[i][9]=1\n",
    "    elif d1[i][9]=='NEAR OCEAN':\n",
    "        d1[i][9]=2\n",
    "    elif d1[i][9]=='ISLAND':\n",
    "        d1[i][9]=3\n",
    "    else:\n",
    "        d1[i][9]=4"
   ]
  },
  {
   "cell_type": "code",
   "execution_count": null,
   "id": "77d317c5",
   "metadata": {},
   "outputs": [],
   "source": [
    "# In this ,the rows[0] is the y and the rest of the rows are the x\n",
    "x1=[]\n",
    "y1=[]\n",
    "for i in range(len(d1)):\n",
    "    x1.append([1,d1[i][0],d1[i][1],d1[i][2],d1[i][3],d1[i][4],d1[i][5],d1[i][6],d1[i][7],d1[i][9]])\n",
    "    y1.append(d1[i][8])\n",
    "print(len(x1))\n",
    "print(len(y1))\n",
    "theta1=[0.0]*len(x1[0])\n",
    "print(theta1)\n",
    "print(x1[0])\n",
    "print(y1[0])"
   ]
  },
  {
   "cell_type": "code",
   "execution_count": null,
   "id": "8434d256",
   "metadata": {},
   "outputs": [],
   "source": [
    "def cost1(theta,x,y):\n",
    "    m=len(x)\n",
    "    tc=0\n",
    "    for i in range(m):\n",
    "        sum=0\n",
    "        for j in range(len(x[0])):\n",
    "            sum+=theta[j]*x[i][j]\n",
    "        sum-=y[i]\n",
    "        sum=sum**2\n",
    "        tc+=sum\n",
    "    return tc/(2*m)"
   ]
  },
  {
   "cell_type": "code",
   "execution_count": null,
   "id": "7cefec2f",
   "metadata": {},
   "outputs": [],
   "source": [
    "def mgd1(x,y,theta,alpha,n=10000):\n",
    "    start_time=time.time()\n",
    "    theta=theta.copy()\n",
    "    m=len(x)\n",
    "    J_his=[]\n",
    "    for _ in range(n):\n",
    "        grads=[0.0]*len(theta)\n",
    "        for j in range(m):\n",
    "            y_hat=sum(theta[k]*x[j][k] for k in range(len(theta)))\n",
    "            err=y_hat-y[j]\n",
    "            for k in range(len(theta)):\n",
    "                grads[k]+=err*x[j][k]\n",
    "        for k in range(len(theta)):\n",
    "            theta[k]-=alpha*grads[k]/m\n",
    "        J_his.append(cost1(theta,x,y))\n",
    "    dur=time.time()-start_time\n",
    "    return theta,J_his,dur"
   ]
  },
  {
   "cell_type": "code",
   "execution_count": null,
   "id": "1daa5203",
   "metadata": {},
   "outputs": [],
   "source": [
    "# Ensure theta has the correct length\n",
    "theta1,J_his1,dur=mgd1(x1,y1,theta1,0.01,1000)\n",
    "print(theta1)\n",
    "print(dur)\n",
    "print(d1[0])"
   ]
  },
  {
   "cell_type": "code",
   "execution_count": null,
   "id": "bc61a8c7",
   "metadata": {},
   "outputs": [],
   "source": [
    "print(d1[0])"
   ]
  },
  {
   "cell_type": "markdown",
   "id": "f44cc77e",
   "metadata": {},
   "source": [
    "Graph for $J_{\\text{his}}$ Vs Iterations"
   ]
  },
  {
   "cell_type": "code",
   "execution_count": null,
   "id": "d5aa0d1a",
   "metadata": {},
   "outputs": [],
   "source": [
    "plt.plot(J_his1)\n",
    "plt.xlabel('Iterations')\n",
    "plt.ylabel('Cost')\n",
    "plt.title('Cost Function over Iterations')\n",
    "plt.show()"
   ]
  },
  {
   "cell_type": "markdown",
   "id": "1185b95d",
   "metadata": {},
   "source": [
    "Part 2 ,of the assignment :-"
   ]
  },
  {
   "cell_type": "code",
   "execution_count": null,
   "id": "48bb62cc",
   "metadata": {},
   "outputs": [],
   "source": [
    "import numpy as np\n",
    "import pandas as pd"
   ]
  },
  {
   "cell_type": "markdown",
   "id": "ec9f04d9",
   "metadata": {},
   "source": [
    "The below code will only be run once"
   ]
  },
  {
   "cell_type": "code",
   "execution_count": null,
   "id": "b84dcc78",
   "metadata": {},
   "outputs": [],
   "source": [
    "x2=np.delete(d1,8,axis=1)\n",
    "y2=d1[:,8]\n",
    "print(x2[0])\n",
    "print(y2[0])"
   ]
  },
  {
   "cell_type": "code",
   "execution_count": null,
   "id": "7470e2e1",
   "metadata": {},
   "outputs": [],
   "source": [
    "# This code will be run only once\n",
    "x2=np.concatenate([np.ones((len(x2),1)),x2],axis=1)"
   ]
  },
  {
   "cell_type": "code",
   "execution_count": null,
   "id": "41f239c1",
   "metadata": {},
   "outputs": [],
   "source": [
    "print(x2[0])\n",
    "theta2=np.zeros(len(x2[0]),dtype=float)\n",
    "theta2=theta2.reshape(-1)\n",
    "print(theta2.shape)\n",
    "print(theta2)\n",
    "print(x2.shape)"
   ]
  },
  {
   "cell_type": "code",
   "execution_count": null,
   "id": "f054ae58",
   "metadata": {},
   "outputs": [],
   "source": [
    "def cost2(theta,x,y):\n",
    "    y_hat=np.dot(x,theta.T)\n",
    "    err=y_hat-y\n",
    "    serr=err**2\n",
    "    return np.sum(serr)/(2*len(x))"
   ]
  },
  {
   "cell_type": "code",
   "execution_count": null,
   "id": "a761bc52",
   "metadata": {},
   "outputs": [],
   "source": [
    "def mgd2(x,y,theta,alpha,n=10000):\n",
    "    stt=time.time()\n",
    "    theta=theta.copy()\n",
    "    m=len(x)\n",
    "    J_his=[]\n",
    "    for _ in range(n):\n",
    "        y_hat=(np.dot(x,theta.T)).T\n",
    "        err=y_hat-y\n",
    "        grads=np.dot(err,x)/m\n",
    "        theta=theta-alpha*grads\n",
    "        J_his.append(cost2(theta,x,y))\n",
    "    dur=time.time()-stt\n",
    "    return theta,J_his,dur"
   ]
  },
  {
   "cell_type": "code",
   "execution_count": null,
   "id": "4c4bf3cc",
   "metadata": {},
   "outputs": [],
   "source": [
    "theta2,J_his2,dur2=mgd2(x2,y2,theta2,0.01,1000)\n",
    "print(dur2)\n",
    "print(theta2)\n",
    "plt.plot(J_his2)\n",
    "plt.xlabel('Iterations')\n",
    "plt.ylabel('Cost')\n",
    "plt.title('Cost Function over Iterations')\n",
    "plt.show()"
   ]
  },
  {
   "cell_type": "markdown",
   "id": "d8319b52",
   "metadata": {},
   "source": [
    "Part 3 of the assignment :-"
   ]
  },
  {
   "cell_type": "code",
   "execution_count": null,
   "id": "449967c6",
   "metadata": {},
   "outputs": [],
   "source": [
    "from sklearn.model_selection import train_test_split\n",
    "from sklearn.linear_model import LinearRegression"
   ]
  },
  {
   "cell_type": "code",
   "execution_count": null,
   "id": "6617698e",
   "metadata": {},
   "outputs": [],
   "source": [
    "print(x1[0])\n",
    "print(x2[0])"
   ]
  },
  {
   "cell_type": "code",
   "execution_count": null,
   "id": "23fd245c",
   "metadata": {},
   "outputs": [],
   "source": [
    "stt3=time.time()\n",
    "x3=np.delete(x2,0,axis=1)\n",
    "x_train,x_test,y_train,y_test=train_test_split(x3,y2,test_size=0.2,random_state=42)\n",
    "reg=LinearRegression().fit(x_train,y_train)\n",
    "dur3=time.time()-stt3\n",
    "print(reg.coef_)\n",
    "print(theta2)\n",
    "print(theta1)\n",
    "print(reg.score(x_test,y_test))\n",
    "print(reg.score(x_train,y_train))\n",
    "print(dur3)"
   ]
  },
  {
   "cell_type": "code",
   "execution_count": null,
   "id": "2b7c16a2",
   "metadata": {},
   "outputs": [],
   "source": [
    "x_test_2=np.concatenate([np.ones((len(x_test),1)),x_test],axis=1)\n",
    "x_train_2=np.concatenate([np.ones((len(x_train),1)),x_train],axis=1)\n",
    "y_train_pred1=np.dot(x_train_2,theta1)\n",
    "y_train_pred2=np.dot(x_train_2,theta2)\n",
    "y_test_pred1=np.dot(x_test_2,theta1)\n",
    "y_test_pred2=np.dot(x_test_2,theta2)"
   ]
  },
  {
   "cell_type": "code",
   "execution_count": 24,
   "id": "433b4b43",
   "metadata": {},
   "outputs": [
    {
     "name": "stdout",
     "output_type": "stream",
     "text": [
      "R² score for regression model on test set for theta1: 0.5700636171849596\n",
      "R² score for regression model on test set for theta2: 0.5700636171849596\n",
      "R² score for regression model on test set: 0.643511270554038\n",
      "R² score for regression model on training set for theta1: 0.5746799142012735\n",
      "R² score for regression model on training set for theta2: 0.5746799142012735\n",
      "R² score for regression model on training set: 0.6412524458438154\n"
     ]
    }
   ],
   "source": [
    "r_test2_1=r2_score(y_test,y_test_pred1)\n",
    "r_test2_2=r2_score(y_test,y_test_pred2)\n",
    "\n",
    "# Print scores\n",
    "print(\"R² score for regression model on test set for theta1:\",r_test2_1)\n",
    "print(\"R² score for regression model on test set for theta2:\",r_test2_2)\n",
    "print(\"R² score for regression model on test set:\",reg.score(x_test,y_test))\n",
    "print(\"R² score for regression model on training set for theta1:\",r2_score(y_train,y_train_pred1))\n",
    "print(\"R² score for regression model on training set for theta2:\",r2_score(y_train,y_train_pred2))\n",
    "print(\"R² score for regression model on training set:\",reg.score(x_train,y_train))"
   ]
  },
  {
   "cell_type": "code",
   "execution_count": 25,
   "id": "d1446875",
   "metadata": {},
   "outputs": [
    {
     "name": "stdout",
     "output_type": "stream",
     "text": [
      "Mean Absolute Error for on test set for theta1: 0.2782679054153057\n",
      "Mean Absolute Error for on test set for theta2: 0.2782679054153057\n",
      "Mean Absolute Error for on test set for regression model: 0.24658959200380837\n",
      "Mean Absolute Error for on training set for theta1: 0.2715105236993384\n",
      "Mean Absolute Error for on training set for theta2: 0.2715105236993384\n",
      "Mean Absolute Error for on training set for regression model: 0.24204636460409035\n"
     ]
    }
   ],
   "source": [
    "print(\"Mean Absolute Error for on test set for theta1:\",mean_absolute_error(y_test,y_test_pred1))\n",
    "print(\"Mean Absolute Error for on test set for theta2:\",mean_absolute_error(y_test,y_test_pred2))\n",
    "print(\"Mean Absolute Error for on test set for regression model:\",mean_absolute_error(y_test,reg.predict(x_test)))\n",
    "print(\"Mean Absolute Error for on training set for theta1:\",mean_absolute_error(y_train,y_train_pred1))\n",
    "print(\"Mean Absolute Error for on training set for theta2:\",mean_absolute_error(y_train,y_train_pred2))\n",
    "print(\"Mean Absolute Error for on training set for regression model:\",mean_absolute_error(y_train,reg.predict(x_train)))"
   ]
  },
  {
   "cell_type": "code",
   "execution_count": 26,
   "id": "a4f2a42f",
   "metadata": {},
   "outputs": [
    {
     "name": "stdout",
     "output_type": "stream",
     "text": [
      "Mean Squared Error for on test set for theta1: 0.13739334710481724\n",
      "Mean Squared Error for on test set for theta2: 0.1373933471048172\n",
      "Mean Squared Error for on test set for regression model: 0.11392192357164449\n",
      "Mean Squared Error for on training set for theta1: 0.13156182895278654\n",
      "Mean Squared Error for on training set for theta2: 0.13156182895278654\n",
      "Mean Squared Error for on training set for regression model: 0.11096932859047169\n"
     ]
    }
   ],
   "source": [
    "print(\"Mean Squared Error for on test set for theta1:\",mean_squared_error(y_test,y_test_pred1))\n",
    "print(\"Mean Squared Error for on test set for theta2:\",mean_squared_error(y_test,y_test_pred2))\n",
    "print(\"Mean Squared Error for on test set for regression model:\",mean_squared_error(y_test,reg.predict(x_test)))\n",
    "print(\"Mean Squared Error for on training set for theta1:\",mean_squared_error(y_train,y_train_pred1))\n",
    "print(\"Mean Squared Error for on training set for theta2:\",mean_squared_error(y_train,y_train_pred2))\n",
    "print(\"Mean Squared Error for on training set for regression model:\",mean_squared_error(y_train,reg.predict(x_train)))"
   ]
  }
 ],
 "metadata": {
  "kernelspec": {
   "display_name": "week1_ig",
   "language": "python",
   "name": "python3"
  },
  "language_info": {
   "codemirror_mode": {
    "name": "ipython",
    "version": 3
   },
   "file_extension": ".py",
   "mimetype": "text/x-python",
   "name": "python",
   "nbconvert_exporter": "python",
   "pygments_lexer": "ipython3",
   "version": "3.12.9"
  }
 },
 "nbformat": 4,
 "nbformat_minor": 5
}
