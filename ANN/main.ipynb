{
 "cells": [
  {
   "cell_type": "code",
   "execution_count": 96,
   "id": "a919d7de",
   "metadata": {},
   "outputs": [],
   "source": [
    "import torch as th\n",
    "import numpy as np\n",
    "import pandas as pd\n",
    "import os\n",
    "import matplotlib.pyplot as plt"
   ]
  },
  {
   "cell_type": "markdown",
   "id": "41b9c588",
   "metadata": {},
   "source": [
    "Pre-processing the dataset :-"
   ]
  },
  {
   "cell_type": "code",
   "execution_count": 97,
   "id": "7b2f0b7b",
   "metadata": {},
   "outputs": [],
   "source": [
    "data=pd.read_csv('data.csv')\n",
    "data.drop(columns=['AppointmentID','AppointmentDay','Neighbourhood','ScheduledDay','PatientId'], inplace=True)\n",
    "data['No-show']=data['No-show'].map({'No':0,'Yes':1})\n",
    "data['Gender']=data['Gender'].map({'F':0,'M':1})\n",
    "data['Age']=data['Age']/data['Age'].max()\n",
    "data['Age']=data['Age'].astype(np.float32)"
   ]
  },
  {
   "cell_type": "code",
   "execution_count": 98,
   "id": "2b35cc4f",
   "metadata": {},
   "outputs": [
    {
     "name": "stdout",
     "output_type": "stream",
     "text": [
      "   Gender       Age  Scholarship  Hipertension  Diabetes  Alcoholism  Handcap  \\\n",
      "0       0  0.539130            0             1         0           0        0   \n",
      "1       1  0.486957            0             0         0           0        0   \n",
      "2       0  0.539130            0             0         0           0        0   \n",
      "3       0  0.069565            0             0         0           0        0   \n",
      "4       0  0.486957            0             1         1           0        0   \n",
      "\n",
      "   SMS_received  No-show  \n",
      "0             0        0  \n",
      "1             0        0  \n",
      "2             0        0  \n",
      "3             0        0  \n",
      "4             0        0  \n"
     ]
    }
   ],
   "source": [
    "print(data.head())"
   ]
  },
  {
   "cell_type": "markdown",
   "id": "33776e11",
   "metadata": {},
   "source": [
    "Making the ANN using core python :- \n",
    "\n",
    "Task 1:-"
   ]
  },
  {
   "cell_type": "code",
   "execution_count": 99,
   "id": "39854e1f",
   "metadata": {},
   "outputs": [
    {
     "data": {
      "text/plain": [
       "(110527, 9)"
      ]
     },
     "execution_count": 99,
     "metadata": {},
     "output_type": "execute_result"
    }
   ],
   "source": [
    "data.shape"
   ]
  },
  {
   "cell_type": "code",
   "execution_count": 100,
   "id": "f87c38ee",
   "metadata": {},
   "outputs": [],
   "source": [
    "n_x=data.shape[1]-1\n",
    "n_y=1\n",
    "n_h=9\n",
    "layer_dims=[n_x,n_h,n_y]"
   ]
  },
  {
   "cell_type": "code",
   "execution_count": 101,
   "id": "9d460c61",
   "metadata": {},
   "outputs": [],
   "source": [
    "def sigmoid(x):\n",
    "    cache=[]\n",
    "    cache.append(x)\n",
    "    return 1/(1+np.exp(-x)),cache"
   ]
  },
  {
   "cell_type": "code",
   "execution_count": 102,
   "id": "e29abba4",
   "metadata": {},
   "outputs": [],
   "source": [
    "def relu(Z):\n",
    "    cache=[]\n",
    "    A=np.maximum(0,Z)\n",
    "    cache.append(Z)\n",
    "    return A, cache"
   ]
  },
  {
   "cell_type": "code",
   "execution_count": 103,
   "id": "aa9ca6cd",
   "metadata": {},
   "outputs": [],
   "source": [
    "def inipar(layer_dims):\n",
    "    par={}\n",
    "    np.random.seed(1)\n",
    "    for l in range(1,len(layer_dims)):\n",
    "        par['W'+str(l)]=np.random.randn(layer_dims[l],layer_dims[l-1])*0.01\n",
    "        par['b'+str(l)]=np.zeros((layer_dims[l],1))\n",
    "    return par"
   ]
  },
  {
   "cell_type": "code",
   "execution_count": 104,
   "id": "fdc352be",
   "metadata": {},
   "outputs": [],
   "source": [
    "def linfo(A,W,b):\n",
    "    Z=np.dot(W,A)+b\n",
    "    cache=(A,W,b)\n",
    "    return Z,cache"
   ]
  },
  {
   "cell_type": "code",
   "execution_count": 105,
   "id": "9264b89b",
   "metadata": {},
   "outputs": [],
   "source": [
    "def linactfow(A_prev,W,b,act):\n",
    "    lin_cache=(A_prev,W,b)\n",
    "    z=np.dot(W,A_prev)+b\n",
    "    if act=='sigmoid':\n",
    "        a,act_cache=sigmoid(z)\n",
    "    elif act=='relu':\n",
    "        a,act_cache=relu(z)\n",
    "    cache=(lin_cache,act_cache)\n",
    "    return a,cache"
   ]
  },
  {
   "cell_type": "code",
   "execution_count": 106,
   "id": "f9683ad0",
   "metadata": {},
   "outputs": [],
   "source": [
    "def Lmodfow(X,par):\n",
    "    caches=[]\n",
    "    A=X\n",
    "    L=len(par)//2\n",
    "    for l in range(1,L):\n",
    "        aprev=A\n",
    "        A,cache=linactfow(aprev,par['W'+str(l)],par['b'+str(l)],'relu')\n",
    "        caches.append(cache)\n",
    "    AL,cache=linactfow(A,par['W'+str(L)],par['b'+str(L)],'sigmoid')\n",
    "    caches.append(cache)\n",
    "    return AL,caches"
   ]
  },
  {
   "cell_type": "code",
   "execution_count": 107,
   "id": "ddd9d934",
   "metadata": {},
   "outputs": [],
   "source": [
    "def cost(AL,Y):\n",
    "    m=Y.shape[1]\n",
    "    cost=-1/m*np.sum(Y*np.log(AL)+(1-Y)*np.log(1-AL))\n",
    "    cost=np.squeeze(cost)\n",
    "    return cost"
   ]
  },
  {
   "cell_type": "code",
   "execution_count": 108,
   "id": "5c615f24",
   "metadata": {},
   "outputs": [],
   "source": [
    "def linback(dZ,cache):\n",
    "    A_prev,W,b=cache\n",
    "    m=A_prev.shape[1]\n",
    "    dW=1/m*np.dot(dZ,A_prev.T)\n",
    "    db=1/m*np.sum(dZ,axis=1,keepdims=True)\n",
    "    dA_prev=np.dot(W.T,dZ)\n",
    "    return dA_prev,dW,db"
   ]
  },
  {
   "cell_type": "code",
   "execution_count": 109,
   "id": "7581b6c9",
   "metadata": {},
   "outputs": [],
   "source": [
    "def sigback(dA,cache):\n",
    "    Z=cache[0]\n",
    "    s=1/(1+np.exp(-Z))\n",
    "    dZ=dA*s*(1-s)\n",
    "    return dZ"
   ]
  },
  {
   "cell_type": "code",
   "execution_count": 110,
   "id": "c75508e4",
   "metadata": {},
   "outputs": [],
   "source": [
    "def relback(dA,cache):\n",
    "    Z=cache[0]\n",
    "    dZ=np.array(dA,copy=True)\n",
    "    dZ[Z<=0]=0\n",
    "    return dZ"
   ]
  },
  {
   "cell_type": "code",
   "execution_count": 111,
   "id": "203276d3",
   "metadata": {},
   "outputs": [],
   "source": [
    "def linactback(dA,cache,act):\n",
    "    lin_cache,act_cache=cache\n",
    "    if act=='sigmoid':\n",
    "        dZ=sigback(dA,act_cache)\n",
    "    elif act=='relu':\n",
    "        dZ=relback(dA,act_cache)\n",
    "    dA_prev,dW,db=linback(dZ,lin_cache)\n",
    "    return dA_prev,dW,db"
   ]
  },
  {
   "cell_type": "code",
   "execution_count": 112,
   "id": "d637e59e",
   "metadata": {},
   "outputs": [],
   "source": [
    "def lmodback(AL,Y,caches):\n",
    "    grads={}\n",
    "    L=len(caches)\n",
    "    m=AL.shape[1]\n",
    "    Y=Y.reshape(AL.shape)\n",
    "    dAL=-(np.divide(Y,AL)-np.divide(1-Y,1-AL))\n",
    "    current_cache=caches[L-1]\n",
    "    grads['dA'+str(L)],grads['dW'+str(L)],grads['db'+str(L)]=linactback(dAL,current_cache,'sigmoid')\n",
    "    for l in reversed(range(L-1)):\n",
    "        current_cache = caches[l]\n",
    "        dA_prev_temp, dW_temp, db_temp = linactback(grads[\"dA\" + str(l + 2)], current_cache, 'relu')\n",
    "        grads[\"dA\"+str(l + 1)]=dA_prev_temp\n",
    "        grads[\"dW\"+str(l + 1)]=dW_temp\n",
    "        grads[\"db\"+str(l + 1)]=db_temp\n",
    "    return grads"
   ]
  },
  {
   "cell_type": "code",
   "execution_count": 113,
   "id": "f07eb3d0",
   "metadata": {},
   "outputs": [],
   "source": [
    "def updpar(par,grads,learnrate):\n",
    "    L=len(par)//2\n",
    "    for l in range(L):\n",
    "        par['W'+str(l+1)]=par['W'+str(l+1)]-learnrate*grads['dW'+str(l+1)]\n",
    "        par['b'+str(l+1)]=par['b'+str(l+1)]-learnrate*grads['db'+str(l+1)]\n",
    "    return par"
   ]
  },
  {
   "cell_type": "code",
   "execution_count": 114,
   "id": "8c69d5f3",
   "metadata": {},
   "outputs": [],
   "source": [
    "def Llaymod(X,Y,layer_dims,learnrate=0.01,num_iter=1000):\n",
    "    np.random.seed(1)\n",
    "    costs=[]\n",
    "    par=inipar(layer_dims)\n",
    "    for i in range(0,num_iter):\n",
    "        AL,caches=Lmodfow(X,par)\n",
    "        cst=cost(AL,Y)\n",
    "        grads=lmodback(AL,Y,caches)\n",
    "        par=updpar(par,grads,learnrate)\n",
    "        if i%100==0:\n",
    "            costs.append(cst)\n",
    "            print(\"Cost after iteration %i: %f\" % (i, cst))\n",
    "    plt.plot(np.squeeze(costs))\n",
    "    plt.ylabel('cost')\n",
    "    plt.xlabel('iterations (per tens)')\n",
    "    plt.title(\"Learning rate =\" + str(learnrate))\n",
    "    plt.show()\n",
    "    return par,costs"
   ]
  },
  {
   "cell_type": "code",
   "execution_count": 115,
   "id": "bc1fdd6a",
   "metadata": {},
   "outputs": [],
   "source": [
    "a=data.to_numpy()"
   ]
  },
  {
   "cell_type": "code",
   "execution_count": 116,
   "id": "ab48fd4e",
   "metadata": {},
   "outputs": [
    {
     "name": "stdout",
     "output_type": "stream",
     "text": [
      "[[0.         0.53913045 0.         ... 0.         0.         0.        ]\n",
      " [1.         0.48695651 0.         ... 0.         0.         0.        ]\n",
      " [0.         0.53913045 0.         ... 0.         0.         0.        ]\n",
      " ...\n",
      " [0.         0.18260869 0.         ... 0.         1.         0.        ]\n",
      " [0.         0.33043477 0.         ... 0.         1.         0.        ]\n",
      " [0.         0.46956521 0.         ... 0.         1.         0.        ]]\n"
     ]
    }
   ],
   "source": [
    "print(a)"
   ]
  },
  {
   "cell_type": "code",
   "execution_count": 117,
   "id": "e0b2a1c5",
   "metadata": {},
   "outputs": [
    {
     "name": "stdout",
     "output_type": "stream",
     "text": [
      "   Gender       Age  Scholarship  Hipertension  Diabetes  Alcoholism  Handcap  \\\n",
      "0       0  0.539130            0             1         0           0        0   \n",
      "1       1  0.486957            0             0         0           0        0   \n",
      "2       0  0.539130            0             0         0           0        0   \n",
      "3       0  0.069565            0             0         0           0        0   \n",
      "4       0  0.486957            0             1         1           0        0   \n",
      "\n",
      "   SMS_received  No-show  \n",
      "0             0        0  \n",
      "1             0        0  \n",
      "2             0        0  \n",
      "3             0        0  \n",
      "4             0        0  \n"
     ]
    }
   ],
   "source": [
    "print(data.head())"
   ]
  },
  {
   "cell_type": "code",
   "execution_count": 118,
   "id": "a113dbf1",
   "metadata": {},
   "outputs": [],
   "source": [
    "X=a[:,0:8].T\n",
    "Y=a[:,8].reshape(1,a.shape[0])"
   ]
  },
  {
   "cell_type": "code",
   "execution_count": 119,
   "id": "3e058d2d",
   "metadata": {},
   "outputs": [
    {
     "name": "stdout",
     "output_type": "stream",
     "text": [
      "(8, 110527)\n",
      "(1, 110527)\n"
     ]
    }
   ],
   "source": [
    "print(X.shape)\n",
    "print(Y.shape)"
   ]
  },
  {
   "cell_type": "code",
   "execution_count": 121,
   "id": "9a70b675",
   "metadata": {},
   "outputs": [
    {
     "name": "stdout",
     "output_type": "stream",
     "text": [
      "Cost after iteration 0: 0.693174\n",
      "Cost after iteration 100: 0.623113\n",
      "Cost after iteration 200: 0.580274\n",
      "Cost after iteration 300: 0.553621\n",
      "Cost after iteration 400: 0.536704\n",
      "Cost after iteration 500: 0.525756\n",
      "Cost after iteration 600: 0.518547\n",
      "Cost after iteration 700: 0.513730\n",
      "Cost after iteration 800: 0.510469\n",
      "Cost after iteration 900: 0.508239\n",
      "Cost after iteration 1000: 0.506701\n",
      "Cost after iteration 1100: 0.505630\n",
      "Cost after iteration 1200: 0.504882\n",
      "Cost after iteration 1300: 0.504355\n",
      "Cost after iteration 1400: 0.503982\n",
      "Cost after iteration 1500: 0.503718\n",
      "Cost after iteration 1600: 0.503529\n",
      "Cost after iteration 1700: 0.503394\n",
      "Cost after iteration 1800: 0.503298\n",
      "Cost after iteration 1900: 0.503228\n",
      "Cost after iteration 2000: 0.503177\n",
      "Cost after iteration 2100: 0.503141\n",
      "Cost after iteration 2200: 0.503114\n",
      "Cost after iteration 2300: 0.503094\n",
      "Cost after iteration 2400: 0.503079\n",
      "Cost after iteration 2500: 0.503068\n",
      "Cost after iteration 2600: 0.503059\n",
      "Cost after iteration 2700: 0.503053\n",
      "Cost after iteration 2800: 0.503047\n",
      "Cost after iteration 2900: 0.503042\n",
      "Cost after iteration 3000: 0.503039\n",
      "Cost after iteration 3100: 0.503035\n",
      "Cost after iteration 3200: 0.503032\n",
      "Cost after iteration 3300: 0.503029\n",
      "Cost after iteration 3400: 0.503026\n",
      "Cost after iteration 3500: 0.503023\n",
      "Cost after iteration 3600: 0.503020\n",
      "Cost after iteration 3700: 0.503017\n",
      "Cost after iteration 3800: 0.503014\n",
      "Cost after iteration 3900: 0.503011\n",
      "Cost after iteration 4000: 0.503008\n",
      "Cost after iteration 4100: 0.503006\n",
      "Cost after iteration 4200: 0.503003\n",
      "Cost after iteration 4300: 0.503000\n",
      "Cost after iteration 4400: 0.502997\n",
      "Cost after iteration 4500: 0.502994\n",
      "Cost after iteration 4600: 0.502991\n",
      "Cost after iteration 4700: 0.502987\n",
      "Cost after iteration 4800: 0.502984\n",
      "Cost after iteration 4900: 0.502980\n",
      "Cost after iteration 5000: 0.502977\n",
      "Cost after iteration 5100: 0.502973\n",
      "Cost after iteration 5200: 0.502969\n",
      "Cost after iteration 5300: 0.502965\n",
      "Cost after iteration 5400: 0.502960\n",
      "Cost after iteration 5500: 0.502956\n",
      "Cost after iteration 5600: 0.502951\n",
      "Cost after iteration 5700: 0.502946\n",
      "Cost after iteration 5800: 0.502941\n",
      "Cost after iteration 5900: 0.502936\n",
      "Cost after iteration 6000: 0.502930\n",
      "Cost after iteration 6100: 0.502925\n",
      "Cost after iteration 6200: 0.502919\n",
      "Cost after iteration 6300: 0.502913\n",
      "Cost after iteration 6400: 0.502906\n",
      "Cost after iteration 6500: 0.502900\n",
      "Cost after iteration 6600: 0.502893\n",
      "Cost after iteration 6700: 0.502886\n",
      "Cost after iteration 6800: 0.502878\n",
      "Cost after iteration 6900: 0.502870\n",
      "Cost after iteration 7000: 0.502862\n",
      "Cost after iteration 7100: 0.502854\n",
      "Cost after iteration 7200: 0.502845\n",
      "Cost after iteration 7300: 0.502836\n",
      "Cost after iteration 7400: 0.502827\n",
      "Cost after iteration 7500: 0.502817\n",
      "Cost after iteration 7600: 0.502807\n",
      "Cost after iteration 7700: 0.502796\n",
      "Cost after iteration 7800: 0.502785\n",
      "Cost after iteration 7900: 0.502773\n",
      "Cost after iteration 8000: 0.502762\n",
      "Cost after iteration 8100: 0.502749\n",
      "Cost after iteration 8200: 0.502736\n",
      "Cost after iteration 8300: 0.502723\n",
      "Cost after iteration 8400: 0.502709\n",
      "Cost after iteration 8500: 0.502695\n",
      "Cost after iteration 8600: 0.502680\n",
      "Cost after iteration 8700: 0.502664\n",
      "Cost after iteration 8800: 0.502648\n",
      "Cost after iteration 8900: 0.502631\n",
      "Cost after iteration 9000: 0.502614\n",
      "Cost after iteration 9100: 0.502595\n",
      "Cost after iteration 9200: 0.502577\n",
      "Cost after iteration 9300: 0.502557\n",
      "Cost after iteration 9400: 0.502537\n",
      "Cost after iteration 9500: 0.502516\n",
      "Cost after iteration 9600: 0.502494\n",
      "Cost after iteration 9700: 0.502471\n",
      "Cost after iteration 9800: 0.502448\n",
      "Cost after iteration 9900: 0.502423\n"
     ]
    },
    {
     "data": {
      "image/png": "[encoded data removed]",
      "text/plain": [
       "<Figure size 640x480 with 1 Axes>"
      ]
     },
     "metadata": {},
     "output_type": "display_data"
    }
   ],
   "source": [
    "par,costs=Llaymod(X,Y,layer_dims,learnrate=0.01,num_iter=10000)"
   ]
  },
  {
   "cell_type": "code",
   "execution_count": 122,
   "id": "ed5574f7",
   "metadata": {},
   "outputs": [],
   "source": [
    "def predict(tx,ty,par):\n",
    "    m=tx.shape[1]\n",
    "    p=np.zeros((1,m))\n",
    "    AL,caches=Lmodfow(tx,par)\n",
    "    for i in range(0,AL.shape[1]):\n",
    "        if AL[0,i]>0.5:\n",
    "            p[0,i]=1\n",
    "        else:\n",
    "            p[0,i]=0\n",
    "    print(\"Accuracy: \"  + str(np.sum((p==ty)/m)))\n",
    "    return p"
   ]
  },
  {
   "cell_type": "code",
   "execution_count": 123,
   "id": "6eaa1ddf",
   "metadata": {},
   "outputs": [
    {
     "name": "stdout",
     "output_type": "stream",
     "text": [
      "Accuracy: 0.7980674405348921\n"
     ]
    }
   ],
   "source": [
    "pt=predict(X,Y,par)"
   ]
  }
 ],
 "metadata": {
  "kernelspec": {
   "display_name": "week2_ig",
   "language": "python",
   "name": "python3"
  },
  "language_info": {
   "codemirror_mode": {
    "name": "ipython",
    "version": 3
   },
   "file_extension": ".py",
   "mimetype": "text/x-python",
   "name": "python",
   "nbconvert_exporter": "python",
   "pygments_lexer": "ipython3",
   "version": "3.13.2"
  }
 },
 "nbformat": 4,
 "nbformat_minor": 5
}
