{
 "cells": [
  {
   "cell_type": "code",
   "execution_count": 35,
   "id": "a919d7de",
   "metadata": {},
   "outputs": [],
   "source": [
    "import torch as th\n",
    "import numpy as np\n",
    "import pandas as pd\n",
    "import os\n",
    "import matplotlib.pyplot as plt"
   ]
  },
  {
   "cell_type": "markdown",
   "id": "41b9c588",
   "metadata": {},
   "source": [
    "Pre-processing the dataset :-"
   ]
  },
  {
   "cell_type": "code",
   "execution_count": 36,
   "id": "7b2f0b7b",
   "metadata": {},
   "outputs": [],
   "source": [
    "data=pd.read_csv('data.csv')\n",
    "data.drop(columns=['AppointmentID','AppointmentDay','Neighbourhood','ScheduledDay','PatientId'],inplace=True)\n",
    "data['No-show']=data['No-show'].map({'No':0,'Yes':1})\n",
    "data['Gender']=data['Gender'].map({'F':0,'M':1})\n",
    "data['Age']=data['Age']/data['Age'].max()\n",
    "data['Age']=data['Age'].astype(np.float32)"
   ]
  },
  {
   "cell_type": "code",
   "execution_count": 37,
   "id": "2b35cc4f",
   "metadata": {},
   "outputs": [
    {
     "name": "stdout",
     "output_type": "stream",
     "text": [
      "   Gender       Age  Scholarship  Hipertension  Diabetes  Alcoholism  Handcap  \\\n",
      "0       0  0.539130            0             1         0           0        0   \n",
      "1       1  0.486957            0             0         0           0        0   \n",
      "2       0  0.539130            0             0         0           0        0   \n",
      "3       0  0.069565            0             0         0           0        0   \n",
      "4       0  0.486957            0             1         1           0        0   \n",
      "\n",
      "   SMS_received  No-show  \n",
      "0             0        0  \n",
      "1             0        0  \n",
      "2             0        0  \n",
      "3             0        0  \n",
      "4             0        0  \n"
     ]
    }
   ],
   "source": [
    "print(data.head())"
   ]
  },
  {
   "cell_type": "markdown",
   "id": "33776e11",
   "metadata": {},
   "source": [
    "Making the ANN using core python :- \n",
    "\n",
    "Task 1:-"
   ]
  },
  {
   "cell_type": "code",
   "execution_count": 38,
   "id": "39854e1f",
   "metadata": {},
   "outputs": [
    {
     "data": {
      "text/plain": [
       "(110527, 9)"
      ]
     },
     "execution_count": 38,
     "metadata": {},
     "output_type": "execute_result"
    }
   ],
   "source": [
    "data.shape"
   ]
  },
  {
   "cell_type": "code",
   "execution_count": 39,
   "id": "f87c38ee",
   "metadata": {},
   "outputs": [],
   "source": [
    "n_x=data.shape[1]-1\n",
    "n_y=1\n",
    "n_h=9\n",
    "layer_dims=[n_x,n_h,n_y]"
   ]
  },
  {
   "cell_type": "code",
   "execution_count": 40,
   "id": "9d460c61",
   "metadata": {},
   "outputs": [],
   "source": [
    "def sigmoid(x):\n",
    "    cache=[]\n",
    "    cache.append(x)\n",
    "    return 1/(1+np.exp(-x)),cache"
   ]
  },
  {
   "cell_type": "code",
   "execution_count": 41,
   "id": "e29abba4",
   "metadata": {},
   "outputs": [],
   "source": [
    "def relu(Z):\n",
    "    cache=[]\n",
    "    A=np.maximum(0,Z)\n",
    "    cache.append(Z)\n",
    "    return A,cache"
   ]
  },
  {
   "cell_type": "code",
   "execution_count": 42,
   "id": "aa9ca6cd",
   "metadata": {},
   "outputs": [],
   "source": [
    "def inipar(layer_dims):\n",
    "    par={}\n",
    "    np.random.seed(1)\n",
    "    for l in range(1,len(layer_dims)):\n",
    "        par['W'+str(l)]=np.random.randn(layer_dims[l],layer_dims[l-1])*0.01\n",
    "        par['b'+str(l)]=np.zeros((layer_dims[l],1))\n",
    "    return par"
   ]
  },
  {
   "cell_type": "code",
   "execution_count": 43,
   "id": "fdc352be",
   "metadata": {},
   "outputs": [],
   "source": [
    "def linfo(A,W,b):\n",
    "    Z=np.dot(W,A)+b\n",
    "    cache=(A,W,b)\n",
    "    return Z,cache"
   ]
  },
  {
   "cell_type": "code",
   "execution_count": 44,
   "id": "9264b89b",
   "metadata": {},
   "outputs": [],
   "source": [
    "def linactfow(A_prev,W,b,act):\n",
    "    lin_cache=(A_prev,W,b)\n",
    "    z=np.dot(W,A_prev)+b\n",
    "    if act=='sigmoid':\n",
    "        a,act_cache=sigmoid(z)\n",
    "    elif act=='relu':\n",
    "        a,act_cache=relu(z)\n",
    "    cache=(lin_cache,act_cache)\n",
    "    return a,cache"
   ]
  },
  {
   "cell_type": "code",
   "execution_count": 45,
   "id": "f9683ad0",
   "metadata": {},
   "outputs": [],
   "source": [
    "def Lmodfow(X,par):\n",
    "    caches=[]\n",
    "    A=X\n",
    "    L=len(par)//2\n",
    "    for l in range(1,L):\n",
    "        aprev=A\n",
    "        A,cache=linactfow(aprev,par['W'+str(l)],par['b'+str(l)],'relu')\n",
    "        caches.append(cache)\n",
    "    AL,cache=linactfow(A,par['W'+str(L)],par['b'+str(L)],'sigmoid')\n",
    "    caches.append(cache)\n",
    "    return AL,caches"
   ]
  },
  {
   "cell_type": "code",
   "execution_count": 46,
   "id": "ddd9d934",
   "metadata": {},
   "outputs": [],
   "source": [
    "def cost(AL,Y):\n",
    "    m=Y.shape[1]\n",
    "    cost=-1/m*np.sum(Y*np.log(AL)+(1-Y)*np.log(1-AL))\n",
    "    cost=np.squeeze(cost)\n",
    "    return cost"
   ]
  },
  {
   "cell_type": "code",
   "execution_count": 47,
   "id": "5c615f24",
   "metadata": {},
   "outputs": [],
   "source": [
    "def linback(dZ,cache):\n",
    "    A_prev,W,b=cache\n",
    "    m=A_prev.shape[1]\n",
    "    dW=1/m*np.dot(dZ,A_prev.T)\n",
    "    db=1/m*np.sum(dZ,axis=1,keepdims=True)\n",
    "    dA_prev=np.dot(W.T,dZ)\n",
    "    return dA_prev,dW,db"
   ]
  },
  {
   "cell_type": "code",
   "execution_count": 48,
   "id": "7581b6c9",
   "metadata": {},
   "outputs": [],
   "source": [
    "def sigback(dA,cache):\n",
    "    Z=cache[0]\n",
    "    s=1/(1+np.exp(-Z))\n",
    "    dZ=dA*s*(1-s)\n",
    "    return dZ"
   ]
  },
  {
   "cell_type": "code",
   "execution_count": 49,
   "id": "c75508e4",
   "metadata": {},
   "outputs": [],
   "source": [
    "def relback(dA,cache):\n",
    "    Z=cache[0]\n",
    "    dZ=np.array(dA,copy=True)\n",
    "    dZ[Z<=0]=0\n",
    "    return dZ"
   ]
  },
  {
   "cell_type": "code",
   "execution_count": 50,
   "id": "203276d3",
   "metadata": {},
   "outputs": [],
   "source": [
    "def linactback(dA,cache,act):\n",
    "    lin_cache,act_cache=cache\n",
    "    if act=='sigmoid':\n",
    "        dZ=sigback(dA,act_cache)\n",
    "    elif act=='relu':\n",
    "        dZ=relback(dA,act_cache)\n",
    "    dA_prev,dW,db=linback(dZ,lin_cache)\n",
    "    return dA_prev,dW,db"
   ]
  },
  {
   "cell_type": "code",
   "execution_count": 51,
   "id": "d637e59e",
   "metadata": {},
   "outputs": [],
   "source": [
    "def lmodback(AL,Y,caches):\n",
    "    grads={}\n",
    "    L=len(caches)\n",
    "    m=AL.shape[1]\n",
    "    Y=Y.reshape(AL.shape)\n",
    "    dAL=-(np.divide(Y,AL)-np.divide(1-Y,1-AL))\n",
    "    current_cache=caches[L-1]\n",
    "    grads['dA'+str(L)],grads['dW'+str(L)],grads['db'+str(L)]=linactback(dAL,current_cache,'sigmoid')\n",
    "    for l in reversed(range(L-1)):\n",
    "        current_cache=caches[l]\n",
    "        dA_prev_temp,dW_temp,db_temp=linactback(grads[\"dA\" + str(l + 2)],current_cache,'relu')\n",
    "        grads[\"dA\"+str(l + 1)]=dA_prev_temp\n",
    "        grads[\"dW\"+str(l + 1)]=dW_temp\n",
    "        grads[\"db\"+str(l + 1)]=db_temp\n",
    "    return grads"
   ]
  },
  {
   "cell_type": "code",
   "execution_count": 52,
   "id": "f07eb3d0",
   "metadata": {},
   "outputs": [],
   "source": [
    "def updpar(par,grads,learnrate):\n",
    "    L=len(par)//2\n",
    "    for l in range(L):\n",
    "        par['W'+str(l+1)]=par['W'+str(l+1)]-learnrate*grads['dW'+str(l+1)]\n",
    "        par['b'+str(l+1)]=par['b'+str(l+1)]-learnrate*grads['db'+str(l+1)]\n",
    "    return par"
   ]
  },
  {
   "cell_type": "code",
   "execution_count": 53,
   "id": "8c69d5f3",
   "metadata": {},
   "outputs": [],
   "source": [
    "def Llaymod(X,Y,layer_dims,learnrate=0.01,num_iter=1000):\n",
    "    np.random.seed(1)\n",
    "    costs=[]\n",
    "    par=inipar(layer_dims)\n",
    "    for i in range(0,num_iter):\n",
    "        AL,caches=Lmodfow(X,par)\n",
    "        cst=cost(AL,Y)\n",
    "        grads=lmodback(AL,Y,caches)\n",
    "        par=updpar(par,grads,learnrate)\n",
    "        if i%100==0:\n",
    "            costs.append(cst)\n",
    "            print(\"Cost after iteration %i: %f\" % (i,cst))\n",
    "    plt.plot(np.squeeze(costs))\n",
    "    plt.ylabel('cost')\n",
    "    plt.xlabel('iterations (per tens)')\n",
    "    plt.title(\"Learning rate =\" + str(learnrate))\n",
    "    plt.show()\n",
    "    return par,costs"
   ]
  },
  {
   "cell_type": "code",
   "execution_count": 54,
   "id": "bc1fdd6a",
   "metadata": {},
   "outputs": [],
   "source": [
    "a=data.to_numpy()"
   ]
  },
  {
   "cell_type": "code",
   "execution_count": 55,
   "id": "ab48fd4e",
   "metadata": {},
   "outputs": [
    {
     "name": "stdout",
     "output_type": "stream",
     "text": [
      "[[0.         0.53913045 0.         ... 0.         0.         0.        ]\n",
      " [1.         0.48695651 0.         ... 0.         0.         0.        ]\n",
      " [0.         0.53913045 0.         ... 0.         0.         0.        ]\n",
      " ...\n",
      " [0.         0.18260869 0.         ... 0.         1.         0.        ]\n",
      " [0.         0.33043477 0.         ... 0.         1.         0.        ]\n",
      " [0.         0.46956521 0.         ... 0.         1.         0.        ]]\n"
     ]
    }
   ],
   "source": [
    "print(a)"
   ]
  },
  {
   "cell_type": "code",
   "execution_count": 56,
   "id": "e0b2a1c5",
   "metadata": {},
   "outputs": [
    {
     "name": "stdout",
     "output_type": "stream",
     "text": [
      "   Gender       Age  Scholarship  Hipertension  Diabetes  Alcoholism  Handcap  \\\n",
      "0       0  0.539130            0             1         0           0        0   \n",
      "1       1  0.486957            0             0         0           0        0   \n",
      "2       0  0.539130            0             0         0           0        0   \n",
      "3       0  0.069565            0             0         0           0        0   \n",
      "4       0  0.486957            0             1         1           0        0   \n",
      "\n",
      "   SMS_received  No-show  \n",
      "0             0        0  \n",
      "1             0        0  \n",
      "2             0        0  \n",
      "3             0        0  \n",
      "4             0        0  \n"
     ]
    }
   ],
   "source": [
    "print(data.head())"
   ]
  },
  {
   "cell_type": "code",
   "execution_count": 57,
   "id": "a113dbf1",
   "metadata": {},
   "outputs": [],
   "source": [
    "X=a[:,0:8].T\n",
    "Y=a[:,8].reshape(1,a.shape[0])"
   ]
  },
  {
   "cell_type": "code",
   "execution_count": 58,
   "id": "3e058d2d",
   "metadata": {},
   "outputs": [
    {
     "name": "stdout",
     "output_type": "stream",
     "text": [
      "(8, 110527)\n",
      "(1, 110527)\n"
     ]
    }
   ],
   "source": [
    "print(X.shape)\n",
    "print(Y.shape)"
   ]
  },
  {
   "cell_type": "code",
   "execution_count": 59,
   "id": "9a70b675",
   "metadata": {},
   "outputs": [
    {
     "name": "stdout",
     "output_type": "stream",
     "text": [
      "Cost after iteration 0: 0.693174\n",
      "Cost after iteration 100: 0.623113\n",
      "Cost after iteration 200: 0.580274\n",
      "Cost after iteration 300: 0.553621\n",
      "Cost after iteration 400: 0.536704\n",
      "Cost after iteration 500: 0.525756\n",
      "Cost after iteration 600: 0.518547\n",
      "Cost after iteration 700: 0.513730\n",
      "Cost after iteration 800: 0.510469\n",
      "Cost after iteration 900: 0.508239\n"
     ]
    },
    {
     "data": {
      "image/png": "[encoded data removed]",
      "text/plain": [
       "<Figure size 640x480 with 1 Axes>"
      ]
     },
     "metadata": {},
     "output_type": "display_data"
    }
   ],
   "source": [
    "par,costs=Llaymod(X,Y,layer_dims,learnrate=0.01,num_iter=1000)"
   ]
  },
  {
   "cell_type": "code",
   "execution_count": 60,
   "id": "ed5574f7",
   "metadata": {},
   "outputs": [],
   "source": [
    "def predict(tx,ty,par):\n",
    "    m=tx.shape[1]\n",
    "    p=np.zeros((1,m))\n",
    "    AL,caches=Lmodfow(tx,par)\n",
    "    for i in range(0,AL.shape[1]):\n",
    "        if AL[0,i]>0.5:\n",
    "            p[0,i]=1\n",
    "        else:\n",
    "            p[0,i]=0\n",
    "    print(\"Accuracy: \"  + str(np.sum((p==ty)/m)))\n",
    "    return p"
   ]
  },
  {
   "cell_type": "code",
   "execution_count": 61,
   "id": "6eaa1ddf",
   "metadata": {},
   "outputs": [
    {
     "name": "stdout",
     "output_type": "stream",
     "text": [
      "Accuracy: 0.7980674405348921\n"
     ]
    }
   ],
   "source": [
    "pt=predict(X,Y,par)"
   ]
  },
  {
   "cell_type": "markdown",
   "id": "0889f585",
   "metadata": {},
   "source": [
    "Now using PyTorch for this :- \n",
    "\n",
    "Part 2:-"
   ]
  },
  {
   "cell_type": "code",
   "execution_count": 62,
   "id": "61fde2d5",
   "metadata": {},
   "outputs": [],
   "source": [
    "import torch.nn as nn\n",
    "import torch.optim as optim\n",
    "import torch"
   ]
  },
  {
   "cell_type": "code",
   "execution_count": 63,
   "id": "0b532642",
   "metadata": {},
   "outputs": [],
   "source": [
    "class ANN(nn.Module):\n",
    "    def __init__(self,input_size,hidden_size,output_size):\n",
    "        super(ANN,self).__init__()\n",
    "        self.fc1=nn.Linear(input_size,hidden_size)\n",
    "        self.relu=nn.ReLU()\n",
    "        self.fc2=nn.Linear(hidden_size,output_size)\n",
    "\n",
    "    def forward(self,x):\n",
    "        x=self.fc1(x)\n",
    "        x=self.relu(x)\n",
    "        x=self.fc2(x)\n",
    "        return x"
   ]
  },
  {
   "cell_type": "code",
   "execution_count": 64,
   "id": "793bc124",
   "metadata": {},
   "outputs": [],
   "source": [
    "n_x=data.shape[1]-1\n",
    "n_h=9\n",
    "n_y=1\n",
    "\n",
    "model=ANN(n_x,n_h,n_y)\n",
    "criterion=nn.MSELoss()\n",
    "optimizer=optim.Adam(model.parameters(),lr=0.001)"
   ]
  },
  {
   "cell_type": "code",
   "execution_count": 65,
   "id": "72840c59",
   "metadata": {},
   "outputs": [],
   "source": [
    "X_train=th.from_numpy(X.T).float()\n",
    "y_train=th.from_numpy(Y.T).float()"
   ]
  },
  {
   "cell_type": "code",
   "execution_count": 66,
   "id": "ef472952",
   "metadata": {},
   "outputs": [
    {
     "name": "stdout",
     "output_type": "stream",
     "text": [
      "Epoch [10/1000], Loss: 0.3152\n",
      "Epoch [20/1000], Loss: 0.2948\n",
      "Epoch [30/1000], Loss: 0.2770\n",
      "Epoch [40/1000], Loss: 0.2611\n",
      "Epoch [50/1000], Loss: 0.2466\n",
      "Epoch [60/1000], Loss: 0.2332\n",
      "Epoch [70/1000], Loss: 0.2212\n",
      "Epoch [80/1000], Loss: 0.2105\n",
      "Epoch [90/1000], Loss: 0.2009\n",
      "Epoch [100/1000], Loss: 0.1928\n",
      "Epoch [110/1000], Loss: 0.1864\n",
      "Epoch [120/1000], Loss: 0.1814\n",
      "Epoch [130/1000], Loss: 0.1773\n",
      "Epoch [140/1000], Loss: 0.1738\n",
      "Epoch [150/1000], Loss: 0.1707\n",
      "Epoch [160/1000], Loss: 0.1682\n",
      "Epoch [170/1000], Loss: 0.1664\n",
      "Epoch [180/1000], Loss: 0.1651\n",
      "Epoch [190/1000], Loss: 0.1642\n",
      "Epoch [200/1000], Loss: 0.1635\n",
      "Epoch [210/1000], Loss: 0.1630\n",
      "Epoch [220/1000], Loss: 0.1626\n",
      "Epoch [230/1000], Loss: 0.1623\n",
      "Epoch [240/1000], Loss: 0.1620\n",
      "Epoch [250/1000], Loss: 0.1618\n",
      "Epoch [260/1000], Loss: 0.1616\n",
      "Epoch [270/1000], Loss: 0.1614\n",
      "Epoch [280/1000], Loss: 0.1611\n",
      "Epoch [290/1000], Loss: 0.1610\n",
      "Epoch [300/1000], Loss: 0.1608\n",
      "Epoch [310/1000], Loss: 0.1606\n",
      "Epoch [320/1000], Loss: 0.1605\n",
      "Epoch [330/1000], Loss: 0.1603\n",
      "Epoch [340/1000], Loss: 0.1602\n",
      "Epoch [350/1000], Loss: 0.1601\n",
      "Epoch [360/1000], Loss: 0.1598\n",
      "Epoch [370/1000], Loss: 0.1595\n",
      "Epoch [380/1000], Loss: 0.1591\n",
      "Epoch [390/1000], Loss: 0.1589\n",
      "Epoch [400/1000], Loss: 0.1586\n",
      "Epoch [410/1000], Loss: 0.1585\n",
      "Epoch [420/1000], Loss: 0.1583\n",
      "Epoch [430/1000], Loss: 0.1582\n",
      "Epoch [440/1000], Loss: 0.1581\n",
      "Epoch [450/1000], Loss: 0.1580\n",
      "Epoch [460/1000], Loss: 0.1579\n",
      "Epoch [470/1000], Loss: 0.1579\n",
      "Epoch [480/1000], Loss: 0.1578\n",
      "Epoch [490/1000], Loss: 0.1578\n",
      "Epoch [500/1000], Loss: 0.1577\n",
      "Epoch [510/1000], Loss: 0.1577\n",
      "Epoch [520/1000], Loss: 0.1577\n",
      "Epoch [530/1000], Loss: 0.1577\n",
      "Epoch [540/1000], Loss: 0.1576\n",
      "Epoch [550/1000], Loss: 0.1576\n",
      "Epoch [560/1000], Loss: 0.1576\n",
      "Epoch [570/1000], Loss: 0.1576\n",
      "Epoch [580/1000], Loss: 0.1576\n",
      "Epoch [590/1000], Loss: 0.1576\n",
      "Epoch [600/1000], Loss: 0.1576\n",
      "Epoch [610/1000], Loss: 0.1576\n",
      "Epoch [620/1000], Loss: 0.1575\n",
      "Epoch [630/1000], Loss: 0.1575\n",
      "Epoch [640/1000], Loss: 0.1575\n",
      "Epoch [650/1000], Loss: 0.1575\n",
      "Epoch [660/1000], Loss: 0.1575\n",
      "Epoch [670/1000], Loss: 0.1575\n",
      "Epoch [680/1000], Loss: 0.1575\n",
      "Epoch [690/1000], Loss: 0.1575\n",
      "Epoch [700/1000], Loss: 0.1575\n",
      "Epoch [710/1000], Loss: 0.1575\n",
      "Epoch [720/1000], Loss: 0.1575\n",
      "Epoch [730/1000], Loss: 0.1575\n",
      "Epoch [740/1000], Loss: 0.1575\n",
      "Epoch [750/1000], Loss: 0.1575\n",
      "Epoch [760/1000], Loss: 0.1575\n",
      "Epoch [770/1000], Loss: 0.1575\n",
      "Epoch [780/1000], Loss: 0.1575\n",
      "Epoch [790/1000], Loss: 0.1575\n",
      "Epoch [800/1000], Loss: 0.1575\n",
      "Epoch [810/1000], Loss: 0.1575\n",
      "Epoch [820/1000], Loss: 0.1575\n",
      "Epoch [830/1000], Loss: 0.1575\n",
      "Epoch [840/1000], Loss: 0.1575\n",
      "Epoch [850/1000], Loss: 0.1575\n",
      "Epoch [860/1000], Loss: 0.1575\n",
      "Epoch [870/1000], Loss: 0.1575\n",
      "Epoch [880/1000], Loss: 0.1575\n",
      "Epoch [890/1000], Loss: 0.1575\n",
      "Epoch [900/1000], Loss: 0.1575\n",
      "Epoch [910/1000], Loss: 0.1575\n",
      "Epoch [920/1000], Loss: 0.1575\n",
      "Epoch [930/1000], Loss: 0.1575\n",
      "Epoch [940/1000], Loss: 0.1575\n",
      "Epoch [950/1000], Loss: 0.1575\n",
      "Epoch [960/1000], Loss: 0.1575\n",
      "Epoch [970/1000], Loss: 0.1575\n",
      "Epoch [980/1000], Loss: 0.1575\n",
      "Epoch [990/1000], Loss: 0.1575\n",
      "Epoch [1000/1000], Loss: 0.1575\n"
     ]
    }
   ],
   "source": [
    "eplist=[]\n",
    "losslist=[]\n",
    "for epoch in range(1000):  # number of training epochs\n",
    "    # Forward pass\n",
    "    outputs = model(X_train)\n",
    "    loss = criterion(outputs, y_train)\n",
    "\n",
    "    # Backward and optimize\n",
    "    optimizer.zero_grad()\n",
    "    loss.backward()\n",
    "    optimizer.step()\n",
    "\n",
    "    if (epoch+1) % 10 == 0:\n",
    "        eplist.append(epoch+1)\n",
    "        losslist.append(loss.item())\n",
    "        print(f'Epoch [{epoch+1}/1000], Loss: {loss.item():.4f}')"
   ]
  },
  {
   "cell_type": "code",
   "execution_count": 67,
   "id": "31c3d55a",
   "metadata": {},
   "outputs": [
    {
     "data": {
      "image/png": "[encoded data removed]",
      "text/plain": [
       "<Figure size 640x480 with 1 Axes>"
      ]
     },
     "metadata": {},
     "output_type": "display_data"
    }
   ],
   "source": [
    "import matplotlib.pyplot as plt\n",
    "\n",
    "# Plotting the loss curve\n",
    "plt.plot(eplist, losslist, label='Training Loss')\n",
    "plt.xlabel('Epoch')\n",
    "plt.ylabel('Loss')\n",
    "plt.title('Loss Curve')\n",
    "plt.legend()\n",
    "plt.show()"
   ]
  },
  {
   "cell_type": "code",
   "execution_count": 77,
   "id": "dd374007",
   "metadata": {},
   "outputs": [
    {
     "name": "stdout",
     "output_type": "stream",
     "text": [
      "Accuracy: 0.798067440534892\n"
     ]
    }
   ],
   "source": [
    "model.eval()\n",
    "with th.no_grad():\n",
    "    y_pred = model(X_train)\n",
    "    y_pred = (y_pred > 0.5).float()\n",
    "    accuracy = (y_pred.eq(y_train).sum().item()) / y_train.size(0)\n",
    "    print(f'Accuracy: {accuracy}')"
   ]
  },
  {
   "cell_type": "code",
   "execution_count": null,
   "id": "00ea2537",
   "metadata": {},
   "outputs": [],
   "source": []
  }
 ],
 "metadata": {
  "kernelspec": {
   "display_name": "week2_ig",
   "language": "python",
   "name": "python3"
  },
  "language_info": {
   "codemirror_mode": {
    "name": "ipython",
    "version": 3
   },
   "file_extension": ".py",
   "mimetype": "text/x-python",
   "name": "python",
   "nbconvert_exporter": "python",
   "pygments_lexer": "ipython3",
   "version": "3.13.2"
  }
 },
 "nbformat": 4,
 "nbformat_minor": 5
}
